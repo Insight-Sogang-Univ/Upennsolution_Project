{
 "cells": [
  {
   "cell_type": "code",
   "execution_count": 1,
   "id": "7bdc2c96",
   "metadata": {},
   "outputs": [],
   "source": [
    "from bs4 import BeautifulSoup as bs\n",
    "import requests as req\n",
    "import pandas as pd"
   ]
  },
  {
   "cell_type": "code",
   "execution_count": 27,
   "id": "5ec74642",
   "metadata": {},
   "outputs": [],
   "source": [
    "base_url='https://www.fmkorea.com/best'\n",
    "#headers={\"User-Agent\":\"Mozilla/5.0 (Windows NT 10.0; Win64; x64) AppleWebKit/537.36 (KHTML, like Gecko) Chrome/95.0.4638.54 Safari/537.36\"}"
   ]
  },
  {
   "cell_type": "code",
   "execution_count": 28,
   "id": "dd25db13",
   "metadata": {},
   "outputs": [],
   "source": [
    "#페이지네이션"
   ]
  },
  {
   "cell_type": "code",
   "execution_count": 29,
   "id": "0c21efbf",
   "metadata": {},
   "outputs": [],
   "source": [
    "raw=req.get(base_url)\n",
    "#soup=bs(raw.text, 'lxml')"
   ]
  },
  {
   "cell_type": "code",
   "execution_count": 30,
   "id": "24e6d05c",
   "metadata": {},
   "outputs": [],
   "source": [
    "soup=bs(raw.content, 'html.parser')"
   ]
  },
  {
   "cell_type": "code",
   "execution_count": 33,
   "id": "17b7c374",
   "metadata": {},
   "outputs": [
    {
     "data": {
      "text/plain": [
       "<html><head><title>에펨코리아 보안 시스템-</title></head><body>[보안 시스템에 의한 자동 차단]<br/>사람이 아닌 자동화 프로그램에 의한 비정상적인 반복적인 접속이 탐지되어 에펨코리아 보안 시스템에 의해 사용하시는 IP가 차단되었습니다.<br/>일부 브라우저에서 새로고침 키를 실수로 계속 누르고 있으면 차단될 수 있습니다.<br/>공용 IP인 경우에는 다른 사용자의 행동에 의해 잘못된 차단도 가능합니다.<br/>잘못 차단되었다고 생각하는 경우 VPN이나 warning 우회용 프로그램 이용하고 있는 경우 꺼보시길 바랍니다.<br/>브라우저 아닌 프로그램/앱으로 접속하고 있는 경우 해당 프로그램/앱 문제일 것 입니다.<br/>관련 문제되는 앱이 의심되면 이메일로 사용하던 앱 이름을 일려주시길 바랍니다.<br/><br/>24 시간 이후에 자동으로 차단이 풀립니다.<br/><br/>잘못 차단된 경우 help@fmkorea.com에 하단의 정보와 함께 관련 문의를 하시길 바랍니다.<br/><br/>시간: 2021-11-02 15:36<br/>IP: 222.110.133.193<br/>나라: KR<br/>접속 종류: 유선<br/>ASNorg: Korea Telecom<br/></body></html>"
      ]
     },
     "execution_count": 33,
     "metadata": {},
     "output_type": "execute_result"
    }
   ],
   "source": [
    "soup"
   ]
  },
  {
   "cell_type": "code",
   "execution_count": 31,
   "id": "a8cf5e9a",
   "metadata": {},
   "outputs": [],
   "source": [
    "contents = soup.find_all('li',{'class':['li li_best2_pop1','li li_best2_pop0']})"
   ]
  },
  {
   "cell_type": "code",
   "execution_count": 32,
   "id": "c202f726",
   "metadata": {},
   "outputs": [
    {
     "data": {
      "text/plain": [
       "0"
      ]
     },
     "execution_count": 32,
     "metadata": {},
     "output_type": "execute_result"
    }
   ],
   "source": [
    "len(contents)"
   ]
  },
  {
   "cell_type": "code",
   "execution_count": 26,
   "id": "11758851",
   "metadata": {},
   "outputs": [],
   "source": [
    "result=[]\n",
    "cnt=1\n",
    "for i in contents:\n",
    "    tmp={}\n",
    "    print('-'*15)\n",
    "    print(cnt)\n",
    "    cnt=cnt+1\n",
    "    \n",
    "    title_tag = i.find('a',{\"class\":\" hotdeal_var8\"})\n",
    "    title_ = title_tag.text.strip()\n",
    "    # 댓글 수\n",
    "    comment=title_.split(']')[-2].replace(']','').split('[')[-1]\n",
    "    # 제목 추출\n",
    "    title=title_.replace('['+comment+']',\"\")\n",
    "    print(\"제목: \", title)\n",
    "    \n",
    "    print(\"댓글수: \", comment)\n",
    "    \n",
    "#     # 글쓴이 추출\n",
    "#     writer_tag = i.find('td', class_='gall_writer ub-writer').find('span', class_='nickname')\n",
    "#     if writer_tag is not None: # None 값이 있으므로 조건문을 통해 회피 \n",
    "#         writer = writer_tag.text\n",
    "#         print(\"글쓴이: \", writer)\n",
    "        \n",
    "#     else:\n",
    "#         print(\"글쓴이: \", \"없음\")\n",
    "    \n",
    "#     # 유동이나 고닉이 아닌 글쓴이 옆에 있는 ip 추출\n",
    "#     ip_tag = i.find('td', class_='gall_writer ub-writer').find('span', class_='ip')\n",
    "#     if ip_tag is not None:  # None 값이 있으므로 조건문을 통해 회피 \n",
    "#         ip = ip_tag.text\n",
    "#         print(\"ip: \", ip)\n",
    "    \n",
    "    # 날짜 추출 \n",
    "    date_tag = i.find('span', class_='regdate')\n",
    "    date = date_tag.text\n",
    "    print(\"날짜: \",date)\n",
    "    \n",
    "    # 조회 수 추출\n",
    "    views_tag = i.find('a')['href']\n",
    "    url='https://www.fmkorea.com'+views_tag\n",
    "    r=req.get(url)\n",
    "    s=bs(r.content, 'html.parser')\n",
    "    views = s.find('div',{\"class\":\"side fr\"}).text.split(\" \")[4]\n",
    "    print(\"조회수: \", views)\n",
    "    \n",
    "    \n",
    "    # 추천 수 추출\n",
    "    recommend_tag = i.find('span', class_='count')\n",
    "    recommend = recommend_tag.text\n",
    "    print(\"추천수: \", recommend)\n",
    "    \n",
    "    tmp['제목']=title\n",
    "    tmp['날짜']=date\n",
    "    tmp['조회수']=views\n",
    "    tmp['댓글수']=comment\n",
    "    tmp['추천수']=recommend\n",
    "    \n",
    "    result.append(tmp)"
   ]
  },
  {
   "cell_type": "code",
   "execution_count": null,
   "id": "c0850319",
   "metadata": {},
   "outputs": [],
   "source": [
    "df=pd.DataFrame(result)\n",
    "df"
   ]
  },
  {
   "cell_type": "code",
   "execution_count": null,
   "id": "d5f845ad",
   "metadata": {},
   "outputs": [],
   "source": [
    "df.to_excel('data/에펨코.xlsx')"
   ]
  }
 ],
 "metadata": {
  "kernelspec": {
   "display_name": "Python 3",
   "language": "python",
   "name": "python3"
  },
  "language_info": {
   "codemirror_mode": {
    "name": "ipython",
    "version": 3
   },
   "file_extension": ".py",
   "mimetype": "text/x-python",
   "name": "python",
   "nbconvert_exporter": "python",
   "pygments_lexer": "ipython3",
   "version": "3.8.5"
  }
 },
 "nbformat": 4,
 "nbformat_minor": 5
}
