{
 "cells": [
  {
   "cell_type": "code",
   "execution_count": 29,
   "id": "0653d2a7",
   "metadata": {},
   "outputs": [],
   "source": [
    "from bs4 import BeautifulSoup as bs\n",
    "import requests as req\n",
    "import pandas as pd\n",
    "import datetime\n",
    "from datetime import timedelta"
   ]
  },
  {
   "cell_type": "code",
   "execution_count": 30,
   "id": "de4b52bc",
   "metadata": {},
   "outputs": [],
   "source": [
    "base_url='https://sports.news.naver.com/wfootball/news/index?isphoto=N'"
   ]
  },
  {
   "cell_type": "code",
   "execution_count": 34,
   "id": "1762d38c",
   "metadata": {},
   "outputs": [
    {
     "name": "stdout",
     "output_type": "stream",
     "text": [
      "<div class=\"content_area\">\n",
      "<div class=\"tab_event\">\n",
      "<ul class=\"list\" id=\"_sectionList\">\n",
      "<li class=\"selected\" data-id=\"wfootball\"><a href=\"#\" onclick=\"clickcr(this, 'nwl.league', '', '', event);\"><span class=\"menu\">해외축구 전체</span></a></li>\n",
      "<li data-id=\"epl\"><a href=\"#\" onclick=\"clickcr(this, 'nwl.league', '', '', event);\"><span class=\"menu\">프리미어리그</span></a></li>\n",
      "<li data-id=\"primera\"><a href=\"#\" onclick=\"clickcr(this, 'nwl.league', '', '', event);\"><span class=\"menu\">라리가</span></a></li>\n",
      "<li data-id=\"bundesliga\"><a href=\"#\" onclick=\"clickcr(this, 'nwl.league', '', '', event);\"><span class=\"menu\">분데스</span></a></li>\n",
      "<li data-id=\"seria\"><a href=\"#\" onclick=\"clickcr(this, 'nwl.league', '', '', event);\"><span class=\"menu\">세리에</span></a></li>\n",
      "<li data-id=\"champseuro\"><a href=\"#\" onclick=\"clickcr(this, 'nwl.league', '', '', event);\"><span class=\"menu\">UEFA</span></a></li>\n",
      "<li data-id=\"worldfootballetc\"><a href=\"#\" onclick=\"clickcr(this, 'nwl.league', '', '', event);\"><span class=\"menu\">해외축구 일반</span></a></li>\n",
      "</ul>\n",
      "</div>\n",
      "<div class=\"news_lnb\">\n",
      "<ul class=\"sort\" id=\"_sortTypeList\">\n",
      "<li data-id=\"latest\">\n",
      "<a href=\"#\" onclick=\"clickcr(this, 'nwl.newest', '', '', event);\"><span>최신순</span></a>\n",
      "</li>\n",
      "<li data-id=\"popular\">\n",
      "<a href=\"#\" onclick=\"clickcr(this, 'nwl.popular', '', '', event);\"><span>인기순</span></a>\n",
      "</li>\n",
      "<li class=\"toggle\" data-id=\"team\" style=\"display:none;\">\n",
      "<a href=\"#\"><span>구단별</span></a>\n",
      "</li>\n",
      "</ul>\n",
      "<div class=\"option\">\n",
      "<a class=\"button\" href=\"#\" id=\"_exceptPhotoBtn\" onclick=\"clickcr(this, 'nwl.photoexcept', '', '', event);\"><span class=\"ico\"></span>화보기사 제외</a>\n",
      "<span class=\"check\" id=\"_viewTypeList\">\n",
      "<a data-id=\"text\" href=\"#\" onclick=\"clickcr(this, 'nwl.photooff', '', '', event);\"><span class=\"view1\">텍스트뷰</span></a>\n",
      "<a data-id=\"photo\" href=\"#\" onclick=\"clickcr(this, 'nwl.photoon', '', '', event);\"><span class=\"view2\">포토뷰</span></a>\n",
      "</span>\n",
      "</div>\n",
      "</div>\n",
      "<div class=\"news_team\" id=\"_kboTeamList\" style=\"display:none;\">\n",
      "<ul>\n",
      "<li class=\"first selected\" data-id=\"kbo\"><a href=\"#\"><img alt=\"\" class=\"imageLazyLoad\" height=\"37\" lazy-src=\"https://dthumb-phinf.pstatic.net/?type=sports_f37_37&amp;src=https://sports-phinf.pstatic.net/team/kbo/default/KBO.png\" src=\"data:image/gif;base64,R0lGODlhAQABAAAAACH5BAEKAAEALAAAAAABAAEAAAICTAEAOw==\" width=\"37\"/><span class=\"name\">전체</span></a></li>\n",
      "<li data-id=\"KT\"><a href=\"#\"><img alt=\"\" class=\"imageLazyLoad\" height=\"37\" lazy-src=\"https://dthumb-phinf.pstatic.net/?type=sports_f37_37&amp;src=https://sports-phinf.pstatic.net/team/kbo/default/KT.png\" src=\"data:image/gif;base64,R0lGODlhAQABAAAAACH5BAEKAAEALAAAAAABAAEAAAICTAEAOw==\" width=\"37\"/><span class=\"name\">KT</span></a></li>\n",
      "<li data-id=\"OB\"><a href=\"#\"><img alt=\"\" class=\"imageLazyLoad\" height=\"37\" lazy-src=\"https://dthumb-phinf.pstatic.net/?type=sports_f37_37&amp;src=https://sports-phinf.pstatic.net/team/kbo/default/OB.png\" src=\"data:image/gif;base64,R0lGODlhAQABAAAAACH5BAEKAAEALAAAAAABAAEAAAICTAEAOw==\" width=\"37\"/><span class=\"name\">두산</span></a></li>\n",
      "<li data-id=\"SS\"><a href=\"#\"><img alt=\"\" class=\"imageLazyLoad\" height=\"37\" lazy-src=\"https://dthumb-phinf.pstatic.net/?type=sports_f37_37&amp;src=https://sports-phinf.pstatic.net/team/kbo/default/SS.png\" src=\"data:image/gif;base64,R0lGODlhAQABAAAAACH5BAEKAAEALAAAAAABAAEAAAICTAEAOw==\" width=\"37\"/><span class=\"name\">삼성</span></a></li>\n",
      "<li data-id=\"LG\"><a href=\"#\"><img alt=\"\" class=\"imageLazyLoad\" height=\"37\" lazy-src=\"https://dthumb-phinf.pstatic.net/?type=sports_f37_37&amp;src=https://sports-phinf.pstatic.net/team/kbo/default/LG.png\" src=\"data:image/gif;base64,R0lGODlhAQABAAAAACH5BAEKAAEALAAAAAABAAEAAAICTAEAOw==\" width=\"37\"/><span class=\"name\">LG</span></a></li>\n",
      "<li data-id=\"WO\"><a href=\"#\"><img alt=\"\" class=\"imageLazyLoad\" height=\"37\" lazy-src=\"https://dthumb-phinf.pstatic.net/?type=sports_f37_37&amp;src=https://sports-phinf.pstatic.net/team/kbo/default/WO.png\" src=\"data:image/gif;base64,R0lGODlhAQABAAAAACH5BAEKAAEALAAAAAABAAEAAAICTAEAOw==\" width=\"37\"/><span class=\"name\">키움</span></a></li>\n",
      "<li class=\"first\" data-id=\"SK\"><a href=\"#\"><img alt=\"\" class=\"imageLazyLoad\" height=\"37\" lazy-src=\"https://dthumb-phinf.pstatic.net/?type=sports_f37_37&amp;src=https://sports-phinf.pstatic.net/team/kbo/default/SK.png\" src=\"data:image/gif;base64,R0lGODlhAQABAAAAACH5BAEKAAEALAAAAAABAAEAAAICTAEAOw==\" width=\"37\"/><span class=\"name\">SSG</span></a></li>\n",
      "<li data-id=\"NC\"><a href=\"#\"><img alt=\"\" class=\"imageLazyLoad\" height=\"37\" lazy-src=\"https://dthumb-phinf.pstatic.net/?type=sports_f37_37&amp;src=https://sports-phinf.pstatic.net/team/kbo/default/NC.png\" src=\"data:image/gif;base64,R0lGODlhAQABAAAAACH5BAEKAAEALAAAAAABAAEAAAICTAEAOw==\" width=\"37\"/><span class=\"name\">NC</span></a></li>\n",
      "<li data-id=\"LT\"><a href=\"#\"><img alt=\"\" class=\"imageLazyLoad\" height=\"37\" lazy-src=\"https://dthumb-phinf.pstatic.net/?type=sports_f37_37&amp;src=https://sports-phinf.pstatic.net/team/kbo/default/LT.png\" src=\"data:image/gif;base64,R0lGODlhAQABAAAAACH5BAEKAAEALAAAAAABAAEAAAICTAEAOw==\" width=\"37\"/><span class=\"name\">롯데</span></a></li>\n",
      "<li data-id=\"HT\"><a href=\"#\"><img alt=\"\" class=\"imageLazyLoad\" height=\"37\" lazy-src=\"https://dthumb-phinf.pstatic.net/?type=sports_f37_37&amp;src=https://sports-phinf.pstatic.net/team/kbo/default/HT.png\" src=\"data:image/gif;base64,R0lGODlhAQABAAAAACH5BAEKAAEALAAAAAABAAEAAAICTAEAOw==\" width=\"37\"/><span class=\"name\">KIA</span></a></li>\n",
      "<li data-id=\"HH\"><a href=\"#\"><img alt=\"\" class=\"imageLazyLoad\" height=\"37\" lazy-src=\"https://dthumb-phinf.pstatic.net/?type=sports_f37_37&amp;src=https://sports-phinf.pstatic.net/team/kbo/default/HH.png\" src=\"data:image/gif;base64,R0lGODlhAQABAAAAACH5BAEKAAEALAAAAAABAAEAAAICTAEAOw==\" width=\"37\"/><span class=\"name\">한화</span></a></li>\n",
      "</ul>\n",
      "</div>\n",
      "<div class=\"news_date\" id=\"_topDateList\" style=\"display:none;\"></div>\n",
      "<div class=\"news_list\" id=\"_newsList\"></div>\n",
      "<div class=\"paginate\" id=\"_pageList\" style=\"display:none;\"></div>\n",
      "<div class=\"paginate_day\" id=\"_bottomDateList\"></div>\n",
      "</div>\n",
      "<div class=\"news_list\" id=\"_newsList\"></div>\n"
     ]
    }
   ],
   "source": [
    "cnt=1\n",
    "result=[]\n",
    "\n",
    "box=[]\n",
    "for i in range(1,2):\n",
    "    params={\"page\":i}\n",
    "    raw=req.get(base_url,params=params)\n",
    "    soup=bs(raw.text, 'html.parser')\n",
    "    box=soup.find('div',{\"class\":\"content_area\"})\n",
    "    print(box)\n",
    "    contents = box.find('div',{\"class\":\"news_list\"})\n",
    "    print(contents)\n",
    "    for i in contents:\n",
    "        tmp={}\n",
    "        print('-'*15)\n",
    "        print(cnt)\n",
    "        cnt=cnt+1    \n",
    "\n",
    "        # 제목 추출\n",
    "        title=i.find('span').text\n",
    "        print(\"제목: \", title)\n",
    "\n",
    "\n",
    "#         # 날짜 추출 \n",
    "#         date=i.find('span',{\"class\":\"time\"}).text\n",
    "#         if d.strftime('%d') != date[8:10]:\n",
    "#             date=date[:10]\n",
    "#         print(\"날짜: \",date)\n",
    "\n",
    "\n",
    "        tmp['제목']=title\n",
    "        #tmp['날짜']=date\n",
    "\n",
    "        result.append(tmp)"
   ]
  },
  {
   "cell_type": "code",
   "execution_count": null,
   "id": "8a1d560d",
   "metadata": {},
   "outputs": [],
   "source": []
  },
  {
   "cell_type": "code",
   "execution_count": null,
   "id": "982e1b2f",
   "metadata": {},
   "outputs": [],
   "source": []
  },
  {
   "cell_type": "code",
   "execution_count": null,
   "id": "baa2e296",
   "metadata": {},
   "outputs": [],
   "source": []
  },
  {
   "cell_type": "code",
   "execution_count": null,
   "id": "cc9d6709",
   "metadata": {},
   "outputs": [],
   "source": []
  },
  {
   "cell_type": "code",
   "execution_count": null,
   "id": "a1a79cc7",
   "metadata": {},
   "outputs": [],
   "source": []
  },
  {
   "cell_type": "code",
   "execution_count": null,
   "id": "4126c193",
   "metadata": {},
   "outputs": [],
   "source": []
  },
  {
   "cell_type": "code",
   "execution_count": null,
   "id": "a8a34c15",
   "metadata": {},
   "outputs": [],
   "source": []
  },
  {
   "cell_type": "code",
   "execution_count": null,
   "id": "90911d90",
   "metadata": {},
   "outputs": [],
   "source": []
  },
  {
   "cell_type": "code",
   "execution_count": null,
   "id": "77ba4b4d",
   "metadata": {},
   "outputs": [],
   "source": []
  },
  {
   "cell_type": "code",
   "execution_count": null,
   "id": "14609b68",
   "metadata": {},
   "outputs": [],
   "source": []
  },
  {
   "cell_type": "code",
   "execution_count": null,
   "id": "75b8a048",
   "metadata": {},
   "outputs": [],
   "source": []
  }
 ],
 "metadata": {
  "kernelspec": {
   "display_name": "Python 3",
   "language": "python",
   "name": "python3"
  },
  "language_info": {
   "codemirror_mode": {
    "name": "ipython",
    "version": 3
   },
   "file_extension": ".py",
   "mimetype": "text/x-python",
   "name": "python",
   "nbconvert_exporter": "python",
   "pygments_lexer": "ipython3",
   "version": "3.8.5"
  }
 },
 "nbformat": 4,
 "nbformat_minor": 5
}
